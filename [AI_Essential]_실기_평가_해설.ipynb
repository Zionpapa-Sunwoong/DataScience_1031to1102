{
  "cells": [
    {
      "cell_type": "markdown",
      "metadata": {
        "id": "view-in-github",
        "colab_type": "text"
      },
      "source": [
        "<a href=\"https://colab.research.google.com/github/Zionpapa-Sunwoong/DataScience_1031to1102/blob/master/%5BAI_Essential%5D_%EC%8B%A4%EA%B8%B0_%ED%8F%89%EA%B0%80_%ED%95%B4%EC%84%A4.ipynb\" target=\"_parent\"><img src=\"https://colab.research.google.com/assets/colab-badge.svg\" alt=\"Open In Colab\"/></a>"
      ]
    },
    {
      "cell_type": "markdown",
      "id": "62ae591d-097d-40ec-ae74-00967e5c2a72",
      "metadata": {
        "id": "62ae591d-097d-40ec-ae74-00967e5c2a72"
      },
      "source": [
        "# **AI Essential 실기 평가**"
      ]
    },
    {
      "cell_type": "code",
      "execution_count": null,
      "id": "153d842d-e35b-4320-bee2-576a5248dda9",
      "metadata": {
        "collapsed": true,
        "id": "153d842d-e35b-4320-bee2-576a5248dda9",
        "jupyter": {
          "outputs_hidden": true
        },
        "scrolled": true
      },
      "outputs": [],
      "source": [
        "# 사전 설치 패키지\n",
        "# 꼭 실행하세요.\n",
        "!pip install torchinfo JAEN -U"
      ]
    },
    {
      "cell_type": "code",
      "execution_count": null,
      "id": "00f008bd-c8a6-4057-b414-93f67f73fbc0",
      "metadata": {
        "colab": {
          "base_uri": "https://localhost:8080/",
          "height": 36
        },
        "id": "00f008bd-c8a6-4057-b414-93f67f73fbc0",
        "outputId": "4c1c4fe7-282c-4ad2-c1d7-086832177b98"
      },
      "outputs": [
        {
          "data": {
            "text/plain": [
              "'0.0.35'"
            ]
          },
          "execution_count": 1,
          "metadata": {},
          "output_type": "execute_result"
        }
      ],
      "source": [
        "import JAEN\n",
        "\n",
        "# 모듈 버전 체크: 현재 버전 0.0.35\n",
        "JAEN.__version__"
      ]
    },
    {
      "cell_type": "code",
      "execution_count": null,
      "id": "7f0JUf--22FW",
      "metadata": {
        "id": "7f0JUf--22FW"
      },
      "outputs": [],
      "source": [
        "# 본인의 이름으로 변경해주세요.\n",
        "student_name = \"김삼성\" # 필수"
      ]
    },
    {
      "cell_type": "code",
      "execution_count": null,
      "id": "5898816d",
      "metadata": {
        "colab": {
          "base_uri": "https://localhost:8080/"
        },
        "id": "5898816d",
        "outputId": "a5953574-cd60-4070-fe75-f86640d192fd"
      },
      "outputs": [
        {
          "name": "stdout",
          "output_type": "stream",
          "text": [
            "김삼성 프로님 환영합니다. AI Essential 1017(1) 실기평가를 위해 아래의 시험 주의사항을 읽고 시험을 진행해주시면 됩니다.\n"
          ]
        }
      ],
      "source": [
        "from JAEN import Exam\n",
        "\n",
        "exam = Exam(\n",
        "    student_name=student_name,   # 이름 입력\n",
        "    class_name=\"AI Essential\",   # 교육 과정 이름\n",
        "    class_round=\"1017(1)\",       # 반 이름 입력\n",
        "    exam_type=\"3형\"                # 문제 유형 입력\n",
        ")\n",
        "\n",
        "# 출력 결과가 본인의 이름인지 확인해주세요."
      ]
    },
    {
      "cell_type": "markdown",
      "id": "265d5cfb-3c58-47d2-bd56-9575ad1eed91",
      "metadata": {
        "id": "265d5cfb-3c58-47d2-bd56-9575ad1eed91"
      },
      "source": [
        "## [필독] **시험 주의 사항**\n",
        "\n",
        "- 아래와 같이 **주석으로 구분된 곳에서 코드를 수정 및 작성** 해야하며, 표시된 곳 **이외의 코드 및 하이퍼파라미터 값을 임의로 수정하면 오답 처리 될 수 있습니다.**\n",
        "\n",
        "```python\n",
        "        # ================================================================== #\n",
        "        #\n",
        "        #                이 곳에서 코드를 수정 및 작성하세요.\n",
        "        #\n",
        "        # ================================================================== #\n",
        "```\n",
        "\n",
        "- 각 문제마다 **\\[답안 작성\\], \\[답안 검증\\], \\[답안 제출\\]** 셀이 제공됩니다.\n",
        "    - **\\[제공 코드\\]** : 답안 작성을 위해 기본적으로 제공되는 코드입니다.\n",
        "    - **\\[답안 작성\\]** : 문제에 대한 답안을 작성하는 코드 셀로 문제를 읽고 코드를 구현합니다.\n",
        "    - **\\[답안 검증\\]** : 문제에 대한 답안을 중간 점검하기 위한 코드 셀로 출력 값이 다를 수 있습니다.\n",
        "      - **해당 과정은 작성하신 답안의 정상 동작을 확인하는 과정으로 실기 점수(채점 결과)와는 연관이 없습니다.**\n",
        "    - **\\[답안 제출\\]** : 답안 작성 후 **반드시 \\[답안 제출\\] 셀을 실행**시켜 `exam` 객체로 답을 제출해야 정답으로 인정됩니다. **답안제출 코드를 임의로 수정하면 정상 제출을 보장하지 않으며 성적에 영향이 있을 수 있습니다.**\n",
        "\n",
        "### 문제를 꼭 꼼꼼하게 읽고 코드를 작성해주세요. 실기시험의 부분 점수는 없으며 문제가 지시한 사항을 따르지 않는 경우 오답 처리 됩니다."
      ]
    },
    {
      "cell_type": "markdown",
      "id": "8b5aa1af-c0b2-4089-b4b7-d425d15c9298",
      "metadata": {
        "id": "8b5aa1af-c0b2-4089-b4b7-d425d15c9298"
      },
      "source": [
        "## **시험 환경 설정**\n",
        "- 시험 응시를 위한 환경 설정을 진행합니다."
      ]
    },
    {
      "cell_type": "code",
      "execution_count": null,
      "id": "a2eb96cb-a84f-4ec4-8f97-d7262e48f289",
      "metadata": {
        "id": "a2eb96cb-a84f-4ec4-8f97-d7262e48f289"
      },
      "outputs": [],
      "source": [
        "# 그대로 실행하세요.\n",
        "import torch\n",
        "import torch.nn as nn\n",
        "import torch.optim as optim\n",
        "from torchinfo import summary\n",
        "from torchvision import datasets, transforms\n",
        "from torch.utils.data import DataLoader, Dataset\n",
        "\n",
        "device = torch.device(\"cuda\" if torch.cuda.is_available() else \"cpu\")"
      ]
    },
    {
      "cell_type": "markdown",
      "id": "16957054-cb04-43c8-b9cb-83bff52a62cb",
      "metadata": {
        "id": "16957054-cb04-43c8-b9cb-83bff52a62cb"
      },
      "source": [
        "- 필요시 추가 모듈(패키지)를 불러올 수 있습니다."
      ]
    },
    {
      "cell_type": "code",
      "execution_count": null,
      "id": "b5c9e987-cd3e-4b4b-9ea7-6de5158381c8",
      "metadata": {
        "id": "b5c9e987-cd3e-4b4b-9ea7-6de5158381c8"
      },
      "outputs": [],
      "source": [
        "# 여기에 추가 모듈을 불러서 사용하세요.\n"
      ]
    },
    {
      "cell_type": "markdown",
      "id": "941ef804-ec75-456d-a6ca-ca28a8b90440",
      "metadata": {
        "id": "941ef804-ec75-456d-a6ca-ca28a8b90440"
      },
      "source": [
        "# **문제1. `ReLU` 활성화 함수 구현**\n",
        "\n",
        "### **문제 설명**\n",
        "- 활성화 함수는 인공 신경망에서 중요한 역할을 하며, 비선형성을 부여하여 복잡한 문제를 해결할 수 있게 도와줍니다. 그 중 ReLU(Rectified Linear Unit) 활성화 함수는 음수를 0으로 변환하고, 양수는 그대로 통과시키는 함수로, 간단하면서도 성능이 우수해 널리 사용됩니다. ReLU 함수는 학습이 빠르며, 경사 소실 문제를 어느 정도 완화할 수 있다는 장점이 있습니다.\n",
        "\n",
        "### **수식**\n",
        "$$\n",
        "ReLU(x) = \\max(0, x)\n",
        "$$\n",
        "\n",
        "### **요구 사항**\n",
        "- `torch.max()` 함수를 사용하여 ReLU 활성화 함수를 구현해야 합니다.\n",
        "- PyTorch의 내장된 활성화 함수(`torch.relu`)를 사용하지 않고, 수식을 기반으로 직접 구현해야 합니다."
      ]
    },
    {
      "cell_type": "code",
      "execution_count": null,
      "id": "9mW2rkhokai9",
      "metadata": {
        "id": "9mW2rkhokai9"
      },
      "outputs": [],
      "source": [
        "# [정답 코드]\n",
        "def activation_function(x):\n",
        "    # ================================================================== #\n",
        "    return torch.max(torch.tensor(0.0), x)\n",
        "    # ================================================================== #"
      ]
    },
    {
      "cell_type": "code",
      "execution_count": null,
      "id": "f9a11f31-87a8-486b-affe-427bf48b888c",
      "metadata": {
        "id": "f9a11f31-87a8-486b-affe-427bf48b888c"
      },
      "outputs": [],
      "source": [
        "# [답안 검증] - 코드를 실행하세요. (오류가 나는 경우 답안 코드를 확인해주세요.)\n",
        "x = torch.Tensor([-1, 0, 1])\n",
        "y = activation_function(x) # 출력 결과 : tensor([0, 0, 1])"
      ]
    },
    {
      "cell_type": "code",
      "execution_count": null,
      "id": "fffd44ff-1a89-4b0c-ab87-e13185e97de0",
      "metadata": {
        "id": "fffd44ff-1a89-4b0c-ab87-e13185e97de0"
      },
      "outputs": [],
      "source": [
        "# [답안 제출] - 코드를 실행하세요. (제출에 실패한 경우 오답 처리될 수 있습니다.)\n",
        "exam.submit(question_id=1, answer=activation_function)"
      ]
    },
    {
      "cell_type": "markdown",
      "id": "1fce38fd-732b-4347-b7fb-90df5c82bfbd",
      "metadata": {
        "id": "1fce38fd-732b-4347-b7fb-90df5c82bfbd"
      },
      "source": [
        "# **문제2. `DataLoader` 구현**\n",
        "\n",
        "### **문제 설명**\n",
        "- 인공 신경망 학습에서 데이터는 배치(batch) 단위로 모델에 입력되어야 합니다. PyTorch에서는 이를 쉽게 처리하기 위해 DataLoader라는 도구를 제공합니다. DataLoader는 데이터셋을 로드하고, 배치 단위로 모델에 전달하여 학습을 돕는 중요한 역할을 합니다. Pytorch를 이용하여 사용자 데이터셋과 DataLoader를 생성하세요.\n",
        "\n",
        "### **요구사항**\n",
        "- `CustomDataSet` 클래스를 구현하세요.\n",
        "  - `__init__`, `__len__`, `__getitem__` 함수를 구현하세요.\n",
        "- 데이터는 특성 data와 레이블 labels 입니다.\n",
        "- 구현한 `CustomDataSet` 클래스를 이용하여 `dataset` 변수를 생성하고 `dataloader`를 생성하세요.\n",
        "- `dataloader`의 배치 크기를 16으로 설정하고, 데이터를 랜덤하게 가져오도록 하세요. 마지막 배치는 생략합니다."
      ]
    },
    {
      "cell_type": "code",
      "execution_count": null,
      "id": "0a52541f-8f7a-4fe2-af77-b26a5a2430ee",
      "metadata": {
        "colab": {
          "base_uri": "https://localhost:8080/"
        },
        "id": "0a52541f-8f7a-4fe2-af77-b26a5a2430ee",
        "outputId": "2939dca1-6445-4b8b-e692-5250cb2182d2"
      },
      "outputs": [
        {
          "data": {
            "text/plain": [
              "(torch.Size([150, 30]), torch.Size([150]))"
            ]
          },
          "execution_count": 13,
          "metadata": {},
          "output_type": "execute_result"
        }
      ],
      "source": [
        "# [코드 제공]\n",
        "torch.manual_seed(42)\n",
        "data = torch.randn(150, 30)        # 2차원 텐서 (정형 데이터)\n",
        "labels = torch.randn((150,)) # 1차원 텐서 (수 예측을 위한 레이블)\n",
        "data.shape, labels.shape"
      ]
    },
    {
      "cell_type": "code",
      "execution_count": null,
      "id": "27dc2db6-69a1-4efa-9273-4ab22d8bafd0",
      "metadata": {
        "id": "27dc2db6-69a1-4efa-9273-4ab22d8bafd0"
      },
      "outputs": [],
      "source": [
        "# [정답 코드]\n",
        "# ================================================================== #\n",
        "class CustomDataset(Dataset):\n",
        "    def __init__(self, x, y):\n",
        "        self.x = x\n",
        "        self.y = y\n",
        "\n",
        "    def __len__(self):\n",
        "        return len(self.x)\n",
        "\n",
        "    def __getitem__(self, idx):\n",
        "        return self.x[idx], self.y[idx]\n",
        "# ================================================================== #"
      ]
    },
    {
      "cell_type": "code",
      "execution_count": null,
      "id": "975b0528-387c-4aa5-838f-5968fc61f01c",
      "metadata": {
        "id": "975b0528-387c-4aa5-838f-5968fc61f01c"
      },
      "outputs": [],
      "source": [
        "# [답안 작성]\n",
        "# ================================================================== #\n",
        "dataset = CustomDataset(data, labels)\n",
        "data_loader = DataLoader(dataset, batch_size=16, shuffle=True, drop_last=True)\n",
        "# ================================================================== #"
      ]
    },
    {
      "cell_type": "code",
      "execution_count": null,
      "id": "a8cab444-d8a3-4fc4-b971-db1cfefe09b7",
      "metadata": {
        "colab": {
          "base_uri": "https://localhost:8080/"
        },
        "id": "a8cab444-d8a3-4fc4-b971-db1cfefe09b7",
        "outputId": "71091986-f4c0-4902-e9c4-0be76c2e0301"
      },
      "outputs": [
        {
          "name": "stdout",
          "output_type": "stream",
          "text": [
            "첫 번째 배치 데이터 크기 : torch.Size([16, 30])\n",
            "첫 번째 배치 레이블 크기 : torch.Size([16])\n",
            "첫 번째 배치, 첫 번째 데이터 : tensor([ 0.3359, -0.7604,  0.0566, -1.5039, -0.4485,  0.5257,  0.2619,  0.7167,\n",
            "        -0.6965,  0.8436,  1.9249, -0.3405, -0.4329,  1.3084,  0.4293,  0.0712,\n",
            "        -1.4018,  0.5611,  1.1513,  0.6989, -0.5898, -0.1646, -0.4931,  0.5041,\n",
            "         0.1377,  0.2751,  0.4683, -0.7030, -0.1796,  0.8974])\n",
            "첫 번째 배치, 첫 번째 레이블: 1.4566701650619507\n"
          ]
        }
      ],
      "source": [
        "# [답안 검증] - 코드를 실행하세요. (오류가 나는 경우 답안 코드를 확인해주세요.)\n",
        "torch.manual_seed(42)\n",
        "data_iter = iter(data_loader)\n",
        "batch_data, batch_labels = next(data_iter)\n",
        "print(f\"첫 번째 배치 데이터 크기 : {batch_data.shape}\")\n",
        "print(f\"첫 번째 배치 레이블 크기 : {batch_labels.shape}\")\n",
        "print(f\"첫 번째 배치, 첫 번째 데이터 : {batch_data[0]}\")\n",
        "print(f\"첫 번째 배치, 첫 번째 레이블: {batch_labels[0]}\")"
      ]
    },
    {
      "cell_type": "code",
      "execution_count": null,
      "id": "d14f22cc-bf5c-498d-88f5-fa38db5a47d3",
      "metadata": {
        "colab": {
          "base_uri": "https://localhost:8080/",
          "height": 35
        },
        "id": "d14f22cc-bf5c-498d-88f5-fa38db5a47d3",
        "outputId": "55ad15b4-b2d2-4378-afdd-cec32358177e"
      },
      "outputs": [
        {
          "data": {
            "text/plain": [
              "'제출 성공'"
            ]
          },
          "execution_count": 18,
          "metadata": {},
          "output_type": "execute_result"
        }
      ],
      "source": [
        "# [답안 제출] - 코드를 실행하세요. (제출에 실패한 경우 오답 처리될 수 있습니다.)\n",
        "exam.submit(question_id=2, dataset_class=CustomDataset, dataloader=data_loader)"
      ]
    },
    {
      "cell_type": "markdown",
      "id": "2596b213-bf71-43e8-bd81-3a53417b6d27",
      "metadata": {
        "id": "2596b213-bf71-43e8-bd81-3a53417b6d27"
      },
      "source": [
        "# **문제3. `합성곱 신경망` 구현**\n",
        "\n",
        "### **문제 설명**\n",
        "- Convolutional Neural Network (CNN)은 이미지 데이터의 특징을 추출하고 분류하는 데 매우 효과적인 모델입니다. PyTorch를 사용하여 CNN 모델을 구현하세요. (학습은 진행하지 않습니다.)\n",
        "\n",
        "### **요구사항**\n",
        "- CNN 모델을 설계하시오. 모델은 다음 구조를 따라야 합니다.\n",
        "    - 입력 데이터 형태: (batch, 1, 30, 30)\n",
        "    - 첫 번째 컨볼루션 층: 1개의 입력 채널과 16개의 출력 채널, 커널 크기 3x3, 패딩 0\n",
        "    - 두 번째 컨볼루션 층: 16개의 입력 채널과 32개의 출력 채널, 커널 크기 3x3, 패딩 0\n",
        "    - 풀링 층: Max Pooling, 크기 2x2\n",
        "      - 풀링 층은 첫 번째 컨볼루션과 두 번째 컨볼루션에 각각 적용합니다.\n",
        "    - 평탄화 층\n",
        "    - 완전 연결층 (Fully Connected Layer): 은닉층 1개와 출력층 1개를 추가하세요. 은칙층은 128개의 뉴런을 가지며, 출력층은 4개의 뉴런(클래스 수)을 갖도록 구성하세요.\n",
        "    - 모든 은닉층(완전 연결층 및 컨볼루션 층 포함) 활성화 함수로는 ReLU를 사용하세요.\n",
        "    - 출력층 활성화 함수는 지정하지 않습니다.\n",
        "\n",
        "- 모델 구성은 Sequential 혹은 클래스 구현 중 자유롭게 선택하면 됩니다.\n",
        "- 모델 학습 및 손실 함수는 구현할 필요 없으며, CNN 모델 구현에만 집중하세요.\n",
        "- `model` 변수에 구현한 모델을 저장하세요."
      ]
    },
    {
      "cell_type": "markdown",
      "id": "IGNZ0GG83Vz5",
      "metadata": {
        "id": "IGNZ0GG83Vz5"
      },
      "source": [
        "```\n",
        "=================================================================\n",
        "Layer (type:depth-idx)                   Param #\n",
        "=================================================================\n",
        "CNN                                      --\n",
        "├─Conv2d: 1-1                            160\n",
        "├─Conv2d: 1-2                            4,640\n",
        "├─MaxPool2d: 1-3                         --\n",
        "├─Flatten: 1-4                           --\n",
        "├─Linear: 1-5                            147,584\n",
        "├─Linear: 1-6                            516\n",
        "=================================================================\n",
        "Total params: 152,900\n",
        "Trainable params: 152,900\n",
        "Non-trainable params: 0\n",
        "=================================================================\n",
        "\n",
        "```"
      ]
    },
    {
      "cell_type": "code",
      "execution_count": null,
      "id": "0hEKmy_fls7W",
      "metadata": {
        "colab": {
          "base_uri": "https://localhost:8080/"
        },
        "id": "0hEKmy_fls7W",
        "outputId": "12b85121-1988-45ab-95dd-cfe9101fde81"
      },
      "outputs": [
        {
          "data": {
            "text/plain": [
              "=================================================================\n",
              "Layer (type:depth-idx)                   Param #\n",
              "=================================================================\n",
              "CNN                                      --\n",
              "├─Conv2d: 1-1                            160\n",
              "├─Conv2d: 1-2                            4,640\n",
              "├─MaxPool2d: 1-3                         --\n",
              "├─Flatten: 1-4                           --\n",
              "├─Linear: 1-5                            147,584\n",
              "├─Linear: 1-6                            516\n",
              "=================================================================\n",
              "Total params: 152,900\n",
              "Trainable params: 152,900\n",
              "Non-trainable params: 0\n",
              "================================================================="
            ]
          },
          "execution_count": 22,
          "metadata": {},
          "output_type": "execute_result"
        }
      ],
      "source": [
        "# [정답 코드]\n",
        "torch.manual_seed(42) # 재현성을 위해 해당 코드를 제거하지 마세요.\n",
        "# ================================================================== #\n",
        "class CNN(nn.Module):\n",
        "    def __init__(self):\n",
        "        super(CNN, self).__init__()\n",
        "        self.conv1 = nn.Conv2d(in_channels=1, out_channels=16, kernel_size=3, padding=0)\n",
        "        self.conv2 = nn.Conv2d(in_channels=16, out_channels=32, kernel_size=3, padding=0) # (b, 16, 28, 28)\n",
        "        self.pool = nn.MaxPool2d(kernel_size=2, stride=2)\n",
        "        self.flatten = nn.Flatten()\n",
        "        self.fc1 = nn.Linear(32 * 6 * 6, 128)\n",
        "        self.fc2 = nn.Linear(128, 4)\n",
        "\n",
        "    def forward(self, x):\n",
        "        x = self.pool(torch.relu(self.conv1(x))) # (b, 16, 28, 28) > # (b, 16, 14, 14)\n",
        "        x = self.pool(torch.relu(self.conv2(x))) # (b, 32, 12, 12) > # (b, 32, 6, 6)\n",
        "        x = self.flatten(x)\n",
        "        x = torch.relu(self.fc1(x))\n",
        "        x = torch.softmax(self.fc2(x), dim=1)\n",
        "\n",
        "        return x\n",
        "# ================================================================== #\n",
        "\n",
        "# 모델 인스턴스 생성\n",
        "model = CNN()\n",
        "\n",
        "# 모델 출력 구조 확인\n",
        "summary(model)"
      ]
    },
    {
      "cell_type": "code",
      "execution_count": null,
      "id": "375f2696-40ad-4026-a5c1-f22e08a04c96",
      "metadata": {
        "colab": {
          "base_uri": "https://localhost:8080/"
        },
        "id": "375f2696-40ad-4026-a5c1-f22e08a04c96",
        "outputId": "5ee136b6-6819-468f-9d30-13f0d880fdfc"
      },
      "outputs": [
        {
          "data": {
            "text/plain": [
              "tensor([[0.2358, 0.2803, 0.2496, 0.2343]], grad_fn=<SoftmaxBackward0>)"
            ]
          },
          "execution_count": 25,
          "metadata": {},
          "output_type": "execute_result"
        }
      ],
      "source": [
        "# [답안 검증] - 코드를 실행하세요. (오류가 나는 경우 답안 코드를 확인해주세요.)\n",
        "\n",
        "# 모든 값이 1로 채워진 1, 1, 30, 30 형태의 텐서 생성\n",
        "input_tensor = torch.ones((1, 1, 30, 30))\n",
        "\n",
        "# 모델에 입력하여 피드포워드 실행\n",
        "output = model(input_tensor)\n",
        "output"
      ]
    },
    {
      "cell_type": "code",
      "execution_count": null,
      "id": "7c7f6dea-7449-4891-b1db-2b0c2b93cf81",
      "metadata": {
        "colab": {
          "base_uri": "https://localhost:8080/",
          "height": 35
        },
        "id": "7c7f6dea-7449-4891-b1db-2b0c2b93cf81",
        "outputId": "a26d479a-a828-409f-f5ca-12e650e5ca63"
      },
      "outputs": [
        {
          "data": {
            "text/plain": [
              "'제출 성공'"
            ]
          },
          "execution_count": 27,
          "metadata": {},
          "output_type": "execute_result"
        }
      ],
      "source": [
        "# [답안 제출] - 코드를 실행하세요. (제출에 실패한 경우 오답 처리될 수 있습니다.)\n",
        "exam.submit(question_id=3, model=model)"
      ]
    },
    {
      "cell_type": "markdown",
      "id": "91df908e-c4a5-47e2-a502-d3b05fb1fd43",
      "metadata": {
        "id": "91df908e-c4a5-47e2-a502-d3b05fb1fd43"
      },
      "source": [
        "# **문제4. `순환 신경망` 구현**\n",
        "\n",
        "### **문제 설명**\n",
        "- LSTM(Long Short-Term Memory)은 순차 데이터를 처리하고, 장기 의존성을 다루는 데 탁월한 성능을 보이는 순환 신경망(RNN)의 한 종류입니다. 이번 과제에서는 PyTorch의 LSTM 레이어를 사용하여 긍정 또는 부정을 예측하는 모델을 구현하세요.\n",
        "\n",
        "### **요구사항**\n",
        "\n",
        "- 모델은 1개의 Embedding 레이어, 1개의 LSTM 레이어, 1개의 Fully Connected Layer (출력층), 그리고 활성화 함수 `sigmoid`를 가집니다.\n",
        "- 주요 사항은 다음과 같습니다:\n",
        "  - **입력 데이터**:\n",
        "    - 크기는 `(batch_size, 시퀀스 길이)`입니다.\n",
        "    - **단어 사전의 크기**는 1000입니다.\n",
        "    - **임베딩 차원**은 16으로 설정됩니다.\n",
        "    - **시퀀스의 길이**는 10입니다.\n",
        "  - **LSTM 레이어**:\n",
        "    - 은닉 상태(hidden state)의 크기는 32로 설정됩니다.\n",
        "    - 모든 시퀀스를 출력한 후 마지막 시퀀스를 선택하여 예측에 사용됩니다.\n",
        "  - **출력층**:\n",
        "    - Fully Connected Layer는 은닉 상태에서 마지막 시퀀스를 입력으로 받아 1개의 출력을 생성합니다.\n",
        "    - **활성화 함수**로 `sigmoid`를 사용하여 이진 분류(긍정/부정)를 수행합니다.\n",
        "  - **배치 크기**: 64로 설정됩니다.\n",
        "  - **출력**: 모델은 입력 시퀀스에서 마지막 시퀀스에 대한 긍정(1) 또는 부정(0)의 확률을 예측합니다.\n"
      ]
    },
    {
      "cell_type": "markdown",
      "id": "dMyTCeUS3iKz",
      "metadata": {
        "id": "dMyTCeUS3iKz"
      },
      "source": [
        "```\n",
        "=================================================================\n",
        "Layer (type:depth-idx)                   Param #\n",
        "=================================================================\n",
        "RNN                                      --\n",
        "├─Embedding: 1-1                         16,000\n",
        "├─Flatten: 1-2                           --\n",
        "├─Linear: 1-3                            161\n",
        "├─Sigmoid: 1-4                           --\n",
        "=================================================================\n",
        "Total params: 16,161\n",
        "Trainable params: 16,161\n",
        "Non-trainable params: 0\n",
        "=================================================================\n",
        "```"
      ]
    },
    {
      "cell_type": "code",
      "execution_count": null,
      "id": "6WgjrK3TmyU6",
      "metadata": {
        "colab": {
          "base_uri": "https://localhost:8080/"
        },
        "id": "6WgjrK3TmyU6",
        "outputId": "78b77492-3866-486e-8faf-ef0166ebe608"
      },
      "outputs": [
        {
          "data": {
            "text/plain": [
              "=================================================================\n",
              "Layer (type:depth-idx)                   Param #\n",
              "=================================================================\n",
              "RNN                                      --\n",
              "├─Embedding: 1-1                         16,000\n",
              "├─LSTM: 1-2                              6,400\n",
              "├─Linear: 1-3                            33\n",
              "├─Sigmoid: 1-4                           --\n",
              "=================================================================\n",
              "Total params: 22,433\n",
              "Trainable params: 22,433\n",
              "Non-trainable params: 0\n",
              "================================================================="
            ]
          },
          "execution_count": 27,
          "metadata": {},
          "output_type": "execute_result"
        }
      ],
      "source": [
        "# [정답 코드]\n",
        "torch.manual_seed(42) # 재현성을 위해 해당 코드를 제거하지 마세요.\n",
        "# ================================================================== #\n",
        "class RNN(nn.Module):\n",
        "    def __init__(self, vocab_size=1000, embedding_dim=16, hidden_dim=32, sequence_length=10):\n",
        "        super(RNN, self).__init__()\n",
        "        self.embedding = nn.Embedding(vocab_size, embedding_dim)  # 임베딩 레이어\n",
        "        self.lstm = nn.LSTM(embedding_dim, hidden_dim, batch_first=True)  # LSTM 레이어\n",
        "        self.fc = nn.Linear(hidden_dim, 1)  # 출력층 (이진 분류를 위해 출력 크기는 1)\n",
        "        self.sigmoid = nn.Sigmoid()  # 활성화 함수로 sigmoid 사용\n",
        "        self.sequence_length = sequence_length\n",
        "\n",
        "    def forward(self, x):\n",
        "        embedded = self.embedding(x)  # (batch_size, 시퀀스 길이, 임베딩 차원)\n",
        "        lstm_out, _ = self.lstm(embedded)  # LSTM 레이어 통과\n",
        "        last_output = lstm_out[:, -1, :]  # 마지막 시퀀스의 은닉 상태 추출\n",
        "        output = self.fc(last_output)  # 출력층 통과\n",
        "        output = self.sigmoid(output)  # sigmoid 활성화 함수 적용\n",
        "        return output\n",
        "# ================================================================== #\n",
        "# 모델 인스턴스 생성\n",
        "model = RNN()\n",
        "\n",
        "# 모델 출력 구조 확인\n",
        "summary(model)"
      ]
    },
    {
      "cell_type": "code",
      "execution_count": null,
      "id": "f67cb60e-6788-4b1f-b63a-108401c425a0",
      "metadata": {
        "colab": {
          "base_uri": "https://localhost:8080/"
        },
        "id": "f67cb60e-6788-4b1f-b63a-108401c425a0",
        "outputId": "453ed6f0-2202-4f65-c051-d177a93e6eac"
      },
      "outputs": [
        {
          "data": {
            "text/plain": [
              "tensor([[0.5041],\n",
              "        [0.5136],\n",
              "        [0.5103],\n",
              "        [0.4816],\n",
              "        [0.5091],\n",
              "        [0.5130],\n",
              "        [0.5235],\n",
              "        [0.5136],\n",
              "        [0.5426],\n",
              "        [0.4912],\n",
              "        [0.5235],\n",
              "        [0.5027],\n",
              "        [0.5120],\n",
              "        [0.5284],\n",
              "        [0.5187],\n",
              "        [0.5249],\n",
              "        [0.5242],\n",
              "        [0.5332],\n",
              "        [0.4945],\n",
              "        [0.5259],\n",
              "        [0.5238],\n",
              "        [0.5269],\n",
              "        [0.5288],\n",
              "        [0.5261],\n",
              "        [0.5285],\n",
              "        [0.5084],\n",
              "        [0.4811],\n",
              "        [0.5139],\n",
              "        [0.5169],\n",
              "        [0.5440],\n",
              "        [0.4983],\n",
              "        [0.5038],\n",
              "        [0.4939],\n",
              "        [0.4950],\n",
              "        [0.5236],\n",
              "        [0.5057],\n",
              "        [0.4970],\n",
              "        [0.5416],\n",
              "        [0.5067],\n",
              "        [0.5047],\n",
              "        [0.5039],\n",
              "        [0.5025],\n",
              "        [0.5267],\n",
              "        [0.4961],\n",
              "        [0.5147],\n",
              "        [0.4929],\n",
              "        [0.5124],\n",
              "        [0.5361],\n",
              "        [0.5146],\n",
              "        [0.5174],\n",
              "        [0.5385],\n",
              "        [0.5215],\n",
              "        [0.5007],\n",
              "        [0.5165],\n",
              "        [0.5223],\n",
              "        [0.5172],\n",
              "        [0.5100],\n",
              "        [0.5054],\n",
              "        [0.5357],\n",
              "        [0.5016],\n",
              "        [0.5262],\n",
              "        [0.5269],\n",
              "        [0.5250],\n",
              "        [0.5204]], grad_fn=<SigmoidBackward0>)"
            ]
          },
          "execution_count": 30,
          "metadata": {},
          "output_type": "execute_result"
        }
      ],
      "source": [
        "# [답안 검증] - 코드를 실행하세요. (오류가 나는 경우 답안 코드를 확인해주세요.)\n",
        "torch.manual_seed(42)\n",
        "random_data_point = torch.randint(0, 1000, (64, 10))\n",
        "\n",
        "# 모델에 입력하여 피드포워드 실행\n",
        "output = model(random_data_point)\n",
        "output"
      ]
    },
    {
      "cell_type": "code",
      "execution_count": null,
      "id": "9c0cc7b2-264b-457a-92c4-b190d16a30ed",
      "metadata": {
        "colab": {
          "base_uri": "https://localhost:8080/",
          "height": 35
        },
        "id": "9c0cc7b2-264b-457a-92c4-b190d16a30ed",
        "outputId": "d34d63e5-dd1c-4381-8ff1-4a5da3b6e086"
      },
      "outputs": [
        {
          "data": {
            "text/plain": [
              "'제출 성공'"
            ]
          },
          "execution_count": 38,
          "metadata": {},
          "output_type": "execute_result"
        }
      ],
      "source": [
        "# [답안 제출] - 코드를 실행하세요. (제출에 실패한 경우 오답 처리될 수 있습니다.)\n",
        "exam.submit(question_id=4, model=model)"
      ]
    },
    {
      "cell_type": "markdown",
      "id": "0c555815-ea8f-487a-950e-42e000162d24",
      "metadata": {
        "id": "0c555815-ea8f-487a-950e-42e000162d24"
      },
      "source": [
        "# **문제5. `심층 신경망` 구현 (보스턴 주택 가격 데이터셋)**\n",
        "\n",
        "### **문제 설명**\n",
        "- 심층 신경망은 여러 개의 은닉층을 갖는 신경망으로, 다양한 비선형 변환을 통해 복잡한 데이터 패턴을 학습할 수 있습니다. PyTorch와 보스턴 주택 가격 데이터셋을 사용하여 주택 가격을 예측하는 심층 신경망(Deep Neural Network, DNN)을 구현하세요.\n",
        "  \n",
        "### **요구 사항**\n",
        "- 보스턴 주택 가격 데이터셋은 JAEN 모듈의 `load_boston()` 함수로 불러올 수 있으며, 13개의 특성(feature)을 가진 데이터입니다.\n",
        "  - 각 데이터 포인트는 주택의 가격을 예측하는 값으로 라벨이 지정됩니다.\n",
        "- 학습 및 평가는 제공된 `train_loader`와 `test_loader`를 사용하세요.\n",
        "- 심층 신경망 모델 구조 및 구현 방식은 자유롭게 진행하되, `model` 변수에 저장하세요.\n",
        "- 손실 함수로 `MSELoss`(평균 제곱 오차)를 사용하고 `criterion`변수에, 옵티마이저로 `Adam`을 사용하여 `optimizer`변수에 저장하세요.\n",
        "  - 손실 함수에 맞는 출력층의 뉴런 수와 활성화 함수를 지정하세요.\n",
        "- 모델을 10 에포크 동안 학습시키고, 각 에포크에서의 손실을 출력하세요.\n",
        "- 평가 데이터(`test_loader`)에 대해 모델의 평균 제곱 오차(MSE)를 계산하고, 최종 MSE를 출력하세요.\n"
      ]
    },
    {
      "cell_type": "code",
      "execution_count": null,
      "id": "eefcde56-36aa-415f-a7bb-e05f13b8cc36",
      "metadata": {
        "collapsed": true,
        "id": "eefcde56-36aa-415f-a7bb-e05f13b8cc36",
        "jupyter": {
          "outputs_hidden": true
        },
        "outputId": "8e1e2145-1a40-40f8-aa6f-39063c0df418"
      },
      "outputs": [
        {
          "data": {
            "text/plain": [
              "(torch.Size([32, 13]), torch.Size([32]))"
            ]
          },
          "execution_count": 3,
          "metadata": {},
          "output_type": "execute_result"
        }
      ],
      "source": [
        "# [코드 제공]\n",
        "from JAEN.datasets import load_boston\n",
        "train_loader, test_loader = load_boston()\n",
        "\n",
        "x, y = next(iter(train_loader)) # 1번째 배치 조회\n",
        "x.shape, y.shape"
      ]
    },
    {
      "cell_type": "code",
      "execution_count": null,
      "id": "wwbvjVIun0IQ",
      "metadata": {
        "colab": {
          "base_uri": "https://localhost:8080/"
        },
        "id": "wwbvjVIun0IQ",
        "outputId": "753e8dcd-d431-492e-e0c2-f0f44bf6aac5"
      },
      "outputs": [
        {
          "data": {
            "text/plain": [
              "=================================================================\n",
              "Layer (type:depth-idx)                   Param #\n",
              "=================================================================\n",
              "DNN                                      --\n",
              "├─Linear: 1-1                            896\n",
              "├─Linear: 1-2                            2,080\n",
              "├─Linear: 1-3                            33\n",
              "├─ReLU: 1-4                              --\n",
              "=================================================================\n",
              "Total params: 3,009\n",
              "Trainable params: 3,009\n",
              "Non-trainable params: 0\n",
              "================================================================="
            ]
          },
          "execution_count": 5,
          "metadata": {},
          "output_type": "execute_result"
        }
      ],
      "source": [
        "# [정답 코드]\n",
        "class DNN(nn.Module):\n",
        "    def __init__(self):\n",
        "        super(DNN, self).__init__()\n",
        "        self.fc1 = nn.Linear(13, 64)   # 입력 크기 30, 은닉층 64\n",
        "        self.fc2 = nn.Linear(64, 32)   # 은닉층 64 -> 32\n",
        "        self.fc3 = nn.Linear(32, 1)    # 출력층 2 (이진 분류)\n",
        "        self.relu = nn.ReLU()\n",
        "\n",
        "    def forward(self, x):\n",
        "        x = self.relu(self.fc1(x))\n",
        "        x = self.relu(self.fc2(x))\n",
        "        x = self.fc3(x)\n",
        "        return x\n",
        "model = DNN().to(device)\n",
        "summary(model)"
      ]
    },
    {
      "cell_type": "code",
      "execution_count": null,
      "id": "RVjxFb06n0KV",
      "metadata": {
        "id": "RVjxFb06n0KV"
      },
      "outputs": [],
      "source": [
        "# [정답 코드]\n",
        "criterion = nn.MSELoss()\n",
        "optimizer = optim.Adam(model.parameters())"
      ]
    },
    {
      "cell_type": "code",
      "execution_count": null,
      "id": "pGFHxyPJn0Mo",
      "metadata": {
        "colab": {
          "base_uri": "https://localhost:8080/"
        },
        "id": "pGFHxyPJn0Mo",
        "outputId": "3be3ca3a-1dc1-4769-9b98-54247216dfc4"
      },
      "outputs": [
        {
          "name": "stderr",
          "output_type": "stream",
          "text": [
            "c:\\Users\\baem1n\\Miniforge3\\lib\\site-packages\\torch\\nn\\modules\\loss.py:538: UserWarning: Using a target size (torch.Size([32])) that is different to the input size (torch.Size([32, 1])). This will likely lead to incorrect results due to broadcasting. Please ensure they have the same size.\n",
            "  return F.mse_loss(input, target, reduction=self.reduction)\n",
            "c:\\Users\\baem1n\\Miniforge3\\lib\\site-packages\\torch\\nn\\modules\\loss.py:538: UserWarning: Using a target size (torch.Size([20])) that is different to the input size (torch.Size([20, 1])). This will likely lead to incorrect results due to broadcasting. Please ensure they have the same size.\n",
            "  return F.mse_loss(input, target, reduction=self.reduction)\n"
          ]
        },
        {
          "name": "stdout",
          "output_type": "stream",
          "text": [
            "Epoch 1, Loss: 605.7970088078425\n",
            "Epoch 2, Loss: 581.7918935922476\n",
            "Epoch 3, Loss: 553.8375267615685\n",
            "Epoch 4, Loss: 507.47877385066107\n",
            "Epoch 5, Loss: 444.8100069486178\n",
            "Epoch 6, Loss: 355.1299978402945\n",
            "Epoch 7, Loss: 262.1114830603966\n",
            "Epoch 8, Loss: 187.84112548828125\n",
            "Epoch 9, Loss: 146.28967695969803\n",
            "Epoch 10, Loss: 129.21367938701923\n"
          ]
        }
      ],
      "source": [
        "# [정답 코드]\n",
        "epochs = 10\n",
        "for epoch in range(epochs):\n",
        "    running_loss = 0.0\n",
        "    model.train()\n",
        "    for inputs, labels in train_loader:\n",
        "        inputs = inputs.to(device)\n",
        "        labels = labels.to(device)\n",
        "        optimizer.zero_grad()\n",
        "        outputs = model(inputs)\n",
        "        loss = criterion(outputs, labels)\n",
        "        loss.backward()\n",
        "        optimizer.step()\n",
        "        running_loss += loss.item()\n",
        "\n",
        "    print(f'Epoch {epoch+1}, Loss: {running_loss / len(train_loader)}')"
      ]
    },
    {
      "cell_type": "code",
      "execution_count": null,
      "id": "V-LpKZUbn0Ox",
      "metadata": {
        "colab": {
          "base_uri": "https://localhost:8080/"
        },
        "id": "V-LpKZUbn0Ox",
        "outputId": "7b016a99-09cc-4922-8cb7-34255a31c840"
      },
      "outputs": [
        {
          "name": "stdout",
          "output_type": "stream",
          "text": [
            "Mean Squared Error (MSE): 123.71947370256696\n"
          ]
        },
        {
          "name": "stderr",
          "output_type": "stream",
          "text": [
            "c:\\Users\\baem1n\\Miniforge3\\lib\\site-packages\\torch\\nn\\modules\\loss.py:538: UserWarning: Using a target size (torch.Size([16])) that is different to the input size (torch.Size([16, 1])). This will likely lead to incorrect results due to broadcasting. Please ensure they have the same size.\n",
            "  return F.mse_loss(input, target, reduction=self.reduction)\n",
            "c:\\Users\\baem1n\\Miniforge3\\lib\\site-packages\\torch\\nn\\modules\\loss.py:538: UserWarning: Using a target size (torch.Size([6])) that is different to the input size (torch.Size([6, 1])). This will likely lead to incorrect results due to broadcasting. Please ensure they have the same size.\n",
            "  return F.mse_loss(input, target, reduction=self.reduction)\n"
          ]
        }
      ],
      "source": [
        "# [정답 코드]\n",
        "model.eval()\n",
        "total_loss = 0.0\n",
        "with torch.no_grad():\n",
        "    for inputs, labels in test_loader:\n",
        "        # 데이터를 device로 이동\n",
        "        inputs = inputs.to(device)\n",
        "        labels = labels.to(device)\n",
        "\n",
        "        # 모델 예측\n",
        "        outputs = model(inputs)\n",
        "\n",
        "        # 손실 계산 (MSE)\n",
        "        loss = criterion(outputs, labels)\n",
        "        total_loss += loss.item()\n",
        "\n",
        "# 평균 제곱 오차 (MSE)\n",
        "average_mse = total_loss / len(test_loader)\n",
        "print(f'Mean Squared Error (MSE): {average_mse}')"
      ]
    },
    {
      "cell_type": "code",
      "execution_count": null,
      "id": "87f02388-3ecd-4610-92c1-9f81a4a56588",
      "metadata": {
        "id": "87f02388-3ecd-4610-92c1-9f81a4a56588"
      },
      "outputs": [],
      "source": [
        "# [답안 제출] - 코드를 실행하세요.\n",
        "exam.submit(question_id=5, model=model)"
      ]
    }
  ],
  "metadata": {
    "colab": {
      "provenance": [],
      "include_colab_link": true
    },
    "kernelspec": {
      "display_name": "base",
      "language": "python",
      "name": "python3"
    },
    "language_info": {
      "codemirror_mode": {
        "name": "ipython",
        "version": 3
      },
      "file_extension": ".py",
      "mimetype": "text/x-python",
      "name": "python",
      "nbconvert_exporter": "python",
      "pygments_lexer": "ipython3",
      "version": "3.10.14"
    }
  },
  "nbformat": 4,
  "nbformat_minor": 5
}